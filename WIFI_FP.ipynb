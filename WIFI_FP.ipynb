{
  "nbformat": 4,
  "nbformat_minor": 0,
  "metadata": {
    "colab": {
      "name": "WIFI FP",
      "provenance": [],
      "collapsed_sections": []
    },
    "kernelspec": {
      "name": "python3",
      "display_name": "Python 3"
    }
  },
  "cells": [
    {
      "cell_type": "markdown",
      "metadata": {
        "id": "9LQCkyDJBc3F",
        "colab_type": "text"
      },
      "source": [
        "We should begin by importing the necessary packages and reading the training and validation data from files."
      ]
    },
    {
      "cell_type": "code",
      "metadata": {
        "id": "mMQiV9iy_UIa",
        "colab_type": "code",
        "colab": {}
      },
      "source": [
        "import pandas as pd\n",
        "import numpy as np\n",
        "import matplotlib.pyplot as plt\n",
        "\n",
        "training_data = pd.read_csv(\"UjiIndoorLoc/TrainingData.csv\")\n",
        "validation_data = pd.read_csv(\"UjiIndoorLoc/ValidationData.csv\")\n",
        "\n",
        "training_data = training_data.dropna().dropna(axis=1)"
      ],
      "execution_count": 0,
      "outputs": []
    },
    {
      "cell_type": "markdown",
      "metadata": {
        "id": "A0Xq0PTpZeqt",
        "colab_type": "text"
      },
      "source": [
        "Offline Stage: Constract RadioMap via Training Data"
      ]
    },
    {
      "cell_type": "code",
      "metadata": {
        "id": "IQUqAG9SAJlJ",
        "colab_type": "code",
        "colab": {}
      },
      "source": [
        "# grid data\n",
        "lon_min = min(training_data.LONGITUDE)\n",
        "lon_max = max(training_data.LONGITUDE)\n",
        "lat_min = min(training_data.LATITUDE)\n",
        "lat_max = max(training_data.LATITUDE)\n",
        "\n",
        "grid_anchor = [lon_min, lat_min]\n",
        "grid_size = [int(lon_max-lon_min)+1, int(lat_max-lat_min)+1]\n",
        "\n",
        "wap_column_names = training_data.filter(regex=(\"WAP\\d*\")).columns\n",
        "num_of_wap = len(wap_column_names)\n",
        "\n",
        "# create radiomap\n",
        "RSSI_RM = np.full((grid_size[0], grid_size[1], num_of_wap,), np.nan)"
      ],
      "execution_count": 0,
      "outputs": []
    },
    {
      "cell_type": "code",
      "metadata": {
        "id": "qXd-Hxikcm53",
        "colab_type": "code",
        "colab": {}
      },
      "source": [
        "def mean_relev_rssi (rssi_list):\n",
        "  return np.mean(rssi_list[rssi_list < 100])\n",
        "agg_list = {i: mean_relev_rssi for i in wap_column_names}\n",
        "\n",
        "# find mean RSSI value for each WAP for each grid point\n",
        "training_data[\"grid_pnt\"] = tuple(map(lambda p: [int(p[0]-grid_anchor[0]), int(p[1]-grid_anchor[1])], zip(training_data.LONGITUDE, training_data.LATITUDE)))\n",
        "training_data_gridgroups = training_data.groupby(by=\"grid_pnt\")\n",
        "training_data_agg = training_data_gridgroups.agg(agg_list)\n",
        "training_data_agg = training_data_agg.dropna(how='all')\n",
        "\n",
        "# Update RM via the training data\n",
        "grid_pnt_list = list(zip(*training_data_agg.index.to_list()))\n",
        "RSSI_RM[grid_pnt_list[0], grid_pnt_list[1], :] = training_data_agg[wap_column_names].to_numpy()"
      ],
      "execution_count": 0,
      "outputs": []
    },
    {
      "cell_type": "code",
      "metadata": {
        "id": "qCxeaonu9QGm",
        "colab_type": "code",
        "outputId": "c5172f0e-6c36-4410-f27f-0d37d8e4727b",
        "colab": {
          "base_uri": "https://localhost:8080/",
          "height": 866
        }
      },
      "source": [
        "AA = np.copy(RSSI_RM[:,:,11])\n",
        "AA[np.isnan(AA)] = -100\n",
        "plt.figure(figsize=(20,15))\n",
        "plt.imshow(AA, vmin=-100, vmax=0)\n",
        "plt.show()"
      ],
      "execution_count": 0,
      "outputs": [
        {
          "output_type": "display_data",
          "data": {
            "image/png": "[encoded data removed]",
            "text/plain": [
              "<Figure size 1440x1080 with 1 Axes>"
            ]
          },
          "metadata": {
            "tags": []
          }
        }
      ]
    }
  ]
}