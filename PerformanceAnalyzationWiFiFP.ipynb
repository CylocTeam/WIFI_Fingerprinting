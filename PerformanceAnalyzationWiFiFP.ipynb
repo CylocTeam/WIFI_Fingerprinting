{
 "cells": [
  {
   "cell_type": "markdown",
   "metadata": {},
   "source": [
    "# Performance Analization For WiFi FP\n",
    "This will be a simple document dedicated to analizing the performance of the WIFI FP algorithm at different settings."
   ]
  },
  {
   "cell_type": "code",
   "execution_count": 1,
   "metadata": {},
   "outputs": [],
   "source": [
    "import pandas as pd\n",
    "import numpy as np\n",
    "import matplotlib.pyplot as plt\n",
    "import similarity as sm\n",
    "import radiomap as rm\n",
    "import wifi_fp as fp"
   ]
  },
  {
   "cell_type": "code",
   "execution_count": 3,
   "metadata": {},
   "outputs": [],
   "source": [
    "# read data from data files\n",
    "training_data    = pd.read_csv(\"sample_data/TrainingData.csv\")\n",
    "validation_data  = pd.read_csv(\"sample_data/ValidationData.csv\")\n",
    "wap_column_names = training_data.filter(regex=(\"WAP\\d*\")).columns\n",
    "training_data    = training_data.drop(columns=[\"RELATIVEPOSITION\", \"USERID\", \"SPACEID\"])\n",
    "\n",
    "# initial processing of data -> normalization and scaling\n",
    "training_data = fp.initial_data_processing(training_data)\n",
    "validation_data = fp.initial_data_processing(validation_data)"
   ]
  },
  {
   "cell_type": "code",
   "execution_count": 4,
   "metadata": {},
   "outputs": [],
   "source": [
    "# create the radiomap object from the training set\n",
    "grid_size = [2,2]\n",
    "rm_per_area = rm.create_radiomap_objects(training_data, grid_size)"
   ]
  },
  {
   "cell_type": "code",
   "execution_count": 5,
   "metadata": {},
   "outputs": [],
   "source": [
    "# check validation dataset results\n",
    "wknn_qtile = 0.95\n",
    "nwap_fields = [v for v in validation_data.columns.to_list() if v not in wap_column_names]\n",
    "validation_results = pd.DataFrame(np.nan, columns=nwap_fields + ['FPx', 'FPy', 'error'], index=validation_data.index)\n",
    "\n",
    "for index, row in validation_data.iterrows():\n",
    "    cur_x, cur_y, cur_error = fp.calculate_line_location(row, rm_per_area, qtile=wknn_qtile)\n",
    "    validation_results.loc[index, nwap_fields+['FPx', 'FPy', 'error']] = row[nwap_fields].to_list() + [cur_x, cur_y, cur_error]\n",
    "all_verrors = validation_results.error[~np.isnan(validation_results.error)].values"
   ]
  },
  {
   "cell_type": "markdown",
   "metadata": {},
   "source": [
    "## Check validation results per device"
   ]
  },
  {
   "cell_type": "code",
   "execution_count": 16,
   "metadata": {},
   "outputs": [
    {
     "data": {
      "image/png": "[encoded data removed]",
      "text/plain": [
       "<Figure size 576x288 with 1 Axes>"
      ]
     },
     "metadata": {
      "needs_background": "light"
     },
     "output_type": "display_data"
    },
    {
     "name": "stdout",
     "output_type": "stream",
     "text": [
      "    grp  err_prc90  err_median  total_num  nonan_num\n",
      "0     0  12.894273    5.703077        120        119\n",
      "1     2  18.956216    4.806114         52         52\n",
      "2     4  12.966448    5.657389         69         69\n",
      "3     5  32.313669   12.023420         17         17\n",
      "4     9  20.397589    5.834438         77         77\n",
      "5    12  24.178329    5.813926         70         70\n",
      "6    13  19.219058    3.941494        369        369\n",
      "7    14  47.629367   13.977132         28         28\n",
      "8    15  14.088149    5.183228         36         36\n",
      "9    20  31.719493    9.370967        213        213\n",
      "10   21  53.666880    8.096001         60         60\n",
      "11  All  23.999684    5.850360       1111       1110\n"
     ]
    }
   ],
   "source": [
    "fig, ax = plt.subplots(figsize=(8, 4))\n",
    "validation_summary = []\n",
    "validation_results_grp = validation_results.groupby([\"PHONEID\"])\n",
    "for grp in validation_results_grp.groups.keys():\n",
    "    td_grp = validation_results_grp.get_group(grp)\n",
    "    verrors = td_grp.error[~np.isnan(td_grp.error)].values\n",
    "    ax.hist(verrors, 100, density=True, histtype='step', cumulative=True, label=\"PhoneID = \" + str(round(grp)))\n",
    "    validation_summary.append({\"grp\": str(round(grp)), \n",
    "                               \"err_prc90\": np.quantile(verrors, 0.9), \n",
    "                               \"err_median\": np.median(verrors, axis=None), \n",
    "                               \"total_num\": len(td_grp), \n",
    "                               \"nonan_num\": len(verrors)})\n",
    "ax.hist(all_verrors, 100, density=True, histtype='step', cumulative=True, label=\"All\", color=\"black\", linewidth=2)\n",
    "plt.xlabel('Error [m]')\n",
    "plt.ylabel('Percentile')\n",
    "plt.title('Validation Results per PhoneID')\n",
    "plt.grid()\n",
    "plt.legend()\n",
    "plt.show()\n",
    "\n",
    "validation_summary.append({\"grp\": \"All\", \n",
    "                            \"err_prc90\": np.quantile(all_verrors, 0.9), \n",
    "                            \"err_median\": np.median(all_verrors, axis=None), \n",
    "                            \"total_num\": len(validation_results), \n",
    "                            \"nonan_num\": len(all_verrors)})\n",
    "validation_summary = pd.DataFrame(validation_summary)\n",
    "print(validation_summary)"
   ]
  },
  {
   "cell_type": "markdown",
   "metadata": {},
   "source": [
    "We may notice that there's some specific devices with higher errors than the others.\n",
    "For example, devices (5, 14, 20, 21) all have a 0.9 quantile larger than 30m, significantly more than the rest. There are many possible explainations for this issue.\n",
    "\n",
    "We were also able to locate all validation data except for one case.\n",
    "\n",
    "It's worth noting that the results here are pretty much at the expected range (besides the outliers): in most papers values of between 14m to 21m are expected for the 95th percentile, and between 5m to 8m for the median. The lower end is typically the result of a kalman filter algorithm. Usually all the data is analyzed with a kernel or some interpolation, so the check here is a bit more limited, but in the expected error range."
   ]
  },
  {
   "cell_type": "code",
   "execution_count": null,
   "metadata": {},
   "outputs": [],
   "source": []
  }
 ],
 "metadata": {
  "kernelspec": {
   "display_name": "Python 3",
   "language": "python",
   "name": "python3"
  },
  "language_info": {
   "codemirror_mode": {
    "name": "ipython",
    "version": 3
   },
   "file_extension": ".py",
   "mimetype": "text/x-python",
   "name": "python",
   "nbconvert_exporter": "python",
   "pygments_lexer": "ipython3",
   "version": "3.7.6"
  }
 },
 "nbformat": 4,
 "nbformat_minor": 4
}
